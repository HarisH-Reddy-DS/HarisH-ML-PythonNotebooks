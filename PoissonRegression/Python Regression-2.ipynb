{
 "cells": [
  {
   "cell_type": "code",
   "execution_count": 1,
   "metadata": {},
   "outputs": [],
   "source": [
    "import pandas as pd\n",
    "import statsmodels.api as sm\n",
    "from math import pi, sin, cos\n",
    "import numpy as np\n",
    "import matplotlib.pyplot as plt\n",
    "import seaborn as sns\n",
    "\n",
    "%matplotlib inline"
   ]
  },
  {
   "cell_type": "code",
   "execution_count": 2,
   "metadata": {},
   "outputs": [
    {
     "name": "stdout",
     "output_type": "stream",
     "text": [
      " data head\n",
      "   hour  count\n",
      "0     1      0\n",
      "1     2      3\n",
      "2     3      6\n",
      "3     4      2\n",
      "4     5      5\n",
      "data description\n",
      "             hour       count\n",
      "count  336.000000  336.000000\n",
      "mean   168.500000    5.735119\n",
      "std     97.139076    3.286074\n",
      "min      1.000000    0.000000\n",
      "25%     84.750000    3.000000\n",
      "50%    168.500000    5.000000\n",
      "75%    252.250000    8.000000\n",
      "max    336.000000   16.000000\n"
     ]
    }
   ],
   "source": [
    "# reading data\n",
    "data = pd.read_csv('VisitData.txt', delim_whitespace=True, header=0)\n",
    "\n",
    "print (' data head')\n",
    "print (data.head())\n",
    "\n",
    "print ('data description')\n",
    "print (data.describe())"
   ]
  },
  {
   "cell_type": "code",
   "execution_count": 3,
   "metadata": {},
   "outputs": [
    {
     "data": {
      "image/png": "[encoded data removed]",
      "text/plain": [
       "<Figure size 432x288 with 1 Axes>"
      ]
     },
     "metadata": {
      "needs_background": "light"
     },
     "output_type": "display_data"
    }
   ],
   "source": [
    "# plotting hour vs count data\n",
    "\n",
    "plt.bar(data['hour'], data['count'],color='r')\n",
    "plt.title('Visitor counts vs hour')\n",
    "plt.xlabel('Hour')\n",
    "plt.ylabel('Visitor Count')\n",
    "plt.show()\n"
   ]
  },
  {
   "cell_type": "code",
   "execution_count": 4,
   "metadata": {},
   "outputs": [
    {
     "name": "stdout",
     "output_type": "stream",
     "text": [
      "   hour  count  hourofday\n",
      "0     1      0          1\n",
      "1     2      3          2\n",
      "2     3      6          3\n",
      "3     4      2          4\n",
      "4     5      5          5\n"
     ]
    }
   ],
   "source": [
    "# in data hours are incremented in everyday\n",
    "# however, time series data have generally cycles so we need to transform hour column into hour in a day\n",
    "data['hourofday'] = data['hour'].apply(lambda x: ((x - 1) % 24) + 1)\n",
    "\n",
    "print (data.head())"
   ]
  },
  {
   "cell_type": "code",
   "execution_count": 5,
   "metadata": {},
   "outputs": [],
   "source": [
    "# plotting histogram which is grouped by according to hourofday\n",
    "totalVisit = np.zeros(24)\n",
    "for index, row in data.iterrows():\n",
    "    totalVisit[row['hourofday'] - 1] = totalVisit[row['hourofday'] - 1] + row['count']\n"
   ]
  },
  {
   "cell_type": "code",
   "execution_count": 6,
   "metadata": {},
   "outputs": [
    {
     "data": {
      "image/png": "[encoded data removed]",
      "text/plain": [
       "<Figure size 432x288 with 1 Axes>"
      ]
     },
     "metadata": {
      "needs_background": "light"
     },
     "output_type": "display_data"
    }
   ],
   "source": [
    "plt.bar(range(1, 25), totalVisit, color=\"blue\")\n",
    "plt.ylabel('Mean Count of Visitors')\n",
    "plt.xlabel('Hour of the day')\n",
    "plt.title('Histogram')\n",
    "plt.show()"
   ]
  },
  {
   "cell_type": "code",
   "execution_count": 7,
   "metadata": {},
   "outputs": [],
   "source": [
    "# from the bar chart, it can be said that there is a cycle\n",
    "# we can convert hour data into frequency domain therefore we can handle cycles\n",
    "data['w'] = data['hour'].apply(lambda h: (float(h) / 24) * 2 * pi)\n",
    "# conversion to frequency domain\n",
    "data['fdomain'] = data['w'].apply(lambda w: sin(w) + cos(w) + sin(2*w) + cos(2*w))"
   ]
  },
  {
   "cell_type": "code",
   "execution_count": 8,
   "metadata": {},
   "outputs": [],
   "source": [
    "# applying poisson regression\n",
    "# X\n",
    "feat_cols = ['fdomain']\n",
    "X = [elem for elem in data[feat_cols].values]\n",
    "\n",
    "# adding costant to adding bias\n",
    "X = sm.add_constant(X, prepend=False)\n",
    "# Y\n",
    "Y = [elem for elem in data['count'].values]\n",
    "# building the model"
   ]
  },
  {
   "cell_type": "code",
   "execution_count": 9,
   "metadata": {},
   "outputs": [
    {
     "name": "stdout",
     "output_type": "stream",
     "text": [
      "Optimization terminated successfully.\n",
      "         Current function value: 2.340728\n",
      "         Iterations 5\n",
      "                          Poisson Regression Results                          \n",
      "==============================================================================\n",
      "Dep. Variable:                      y   No. Observations:                  336\n",
      "Model:                        Poisson   Df Residuals:                      334\n",
      "Method:                           MLE   Df Model:                            1\n",
      "Date:                Tue, 12 Nov 2019   Pseudo R-squ.:                  0.1406\n",
      "Time:                        10:20:37   Log-Likelihood:                -786.48\n",
      "converged:                       True   LL-Null:                       -915.19\n",
      "Covariance Type:            nonrobust   LLR p-value:                 6.323e-58\n",
      "==============================================================================\n",
      "                 coef    std err          z      P>|z|      [0.025      0.975]\n",
      "------------------------------------------------------------------------------\n",
      "x1            -0.2817      0.018    -15.239      0.000      -0.318      -0.245\n",
      "const          1.6734      0.025     68.125      0.000       1.625       1.722\n",
      "==============================================================================\n"
     ]
    }
   ],
   "source": [
    "poisson_mod = sm.Poisson(Y, X)\n",
    "poisson_res = poisson_mod.fit()\n",
    "print(poisson_res.summary())\n",
    "\n"
   ]
  },
  {
   "cell_type": "code",
   "execution_count": 10,
   "metadata": {},
   "outputs": [],
   "source": [
    "# predicted vals\n",
    "predVals = poisson_res.predict(X)"
   ]
  },
  {
   "cell_type": "code",
   "execution_count": 11,
   "metadata": {},
   "outputs": [
    {
     "data": {
      "image/png": "[encoded data removed]",
      "text/plain": [
       "<Figure size 432x288 with 1 Axes>"
      ]
     },
     "metadata": {
      "needs_background": "light"
     },
     "output_type": "display_data"
    }
   ],
   "source": [
    "# plotting results\n",
    "plt.plot(data['hourofday'], data['count'], 'go',label= 'visitor counts')\n",
    "plt.plot(data['hourofday'], predVals, 'bo-',label= 'predicted visitor counts')\n",
    "plt.legend()\n",
    "plt.title('Comparesion between distribution of count and predicted values')\n",
    "plt.xlabel('Hour of day')\n",
    "plt.ylabel('Visitor Count')\n",
    "plt.show()"
   ]
  },
  {
   "cell_type": "code",
   "execution_count": null,
   "metadata": {},
   "outputs": [],
   "source": []
  },
  {
   "cell_type": "code",
   "execution_count": null,
   "metadata": {},
   "outputs": [],
   "source": []
  },
  {
   "cell_type": "code",
   "execution_count": null,
   "metadata": {},
   "outputs": [],
   "source": []
  }
 ],
 "metadata": {
  "kernelspec": {
   "display_name": "Python 3",
   "language": "python",
   "name": "python3"
  },
  "language_info": {
   "codemirror_mode": {
    "name": "ipython",
    "version": 3
   },
   "file_extension": ".py",
   "mimetype": "text/x-python",
   "name": "python",
   "nbconvert_exporter": "python",
   "pygments_lexer": "ipython3",
   "version": "3.6.9"
  }
 },
 "nbformat": 4,
 "nbformat_minor": 2
}
